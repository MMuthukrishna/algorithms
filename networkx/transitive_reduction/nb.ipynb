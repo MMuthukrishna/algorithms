{
 "cells": [
  {
   "cell_type": "code",
   "execution_count": 1,
   "metadata": {},
   "outputs": [],
   "source": [
    "from pyvis.network import Network\n",
    "import networkx as nx\n",
    "import json\n",
    "import functools\n",
    "import itertools\n",
    "import collections\n",
    "from matplotlib import pyplot as plt\n",
    "from networkx.drawing.nx_agraph import write_dot, graphviz_layout"
   ]
  },
  {
   "cell_type": "code",
   "execution_count": 2,
   "metadata": {},
   "outputs": [],
   "source": [
    "# utility functions\n",
    "def none_max(a, b):\n",
    "    if a is None:\n",
    "        return b\n",
    "    if b is None:\n",
    "        return a\n",
    "    return max(a, b)\n",
    "\n",
    "def max_dict(dict_a, dict_b):\n",
    "   all_keys = dict_a.keys() | dict_b.keys()\n",
    "   return  {k: none_max(dict_a.get(k), dict_b.get(k)) for k in all_keys}"
   ]
  },
  {
   "cell_type": "code",
   "execution_count": 3,
   "metadata": {},
   "outputs": [],
   "source": [
    "def plot_graph(G,  heading, layout=False, width=1000, height=550, physics=True):\n",
    "\n",
    "    g = Network(height=height,\n",
    "                width=width,\n",
    "                notebook=True,\n",
    "                directed=True,\n",
    "                heading=heading,\n",
    "                layout=layout)\n",
    "\n",
    "    # level_dict = nx.nx.single_source_shortest_path_length(G.reverse(), num_mapping[\"fin:end\"])\n",
    "    # [g.add_node(k, level=5-v) for k, v in level_dict.items()]\n",
    "    # level_dict[num_mapping[\"fin:end\"]] = len(nx.dag_longest_path(G))-1\n",
    "    # [g.add_node(k, level=v+1) for k, v in level_dict.items()]\n",
    "    g.toggle_physics(physics)\n",
    "    nodes = list(G.nodes())\n",
    "    root_nodes = [n for n,d in G.in_degree() if d==0]\n",
    "    level_dict = {i: 0 for i in root_nodes}\n",
    "    level_dict_two = (\n",
    "        functools.reduce(lambda a,b : max_dict(a,b),\n",
    "                                      [{j: max([len(k) for k in nx.all_simple_paths(G, i, j)])\n",
    "                                        for j in nx.descendants(G, i)}\n",
    "                                       for i in root_nodes]\n",
    "        )\n",
    "    )\n",
    "    level_dict.update(level_dict_two)\n",
    "    [g.add_node(k, level=v) for k, v in level_dict.items()]\n",
    "\n",
    "    g.from_nx(G)\n",
    "    return g"
   ]
  },
  {
   "cell_type": "code",
   "execution_count": 4,
   "metadata": {},
   "outputs": [],
   "source": [
    "G = nx.DiGraph()"
   ]
  },
  {
   "cell_type": "code",
   "execution_count": 5,
   "metadata": {},
   "outputs": [],
   "source": [
    "G.add_edges_from([(1,2), (1,3), (2,4), (3,4), (1,4)])"
   ]
  },
  {
   "cell_type": "code",
   "execution_count": 6,
   "metadata": {},
   "outputs": [
    {
     "data": {
      "text/html": [
       "\n",
       "        <iframe\n",
       "            width=\"1000\"\n",
       "            height=\"550\"\n",
       "            src=\"./test.html\"\n",
       "            frameborder=\"0\"\n",
       "            allowfullscreen\n",
       "        ></iframe>\n",
       "        "
      ],
      "text/plain": [
       "<IPython.lib.display.IFrame at 0x7f50911e6e20>"
      ]
     },
     "execution_count": 6,
     "metadata": {},
     "output_type": "execute_result"
    }
   ],
   "source": [
    "plot_graph(G, heading=\"DAG\", layout=True).show(\"./test.html\")"
   ]
  },
  {
   "cell_type": "code",
   "execution_count": 7,
   "metadata": {},
   "outputs": [
    {
     "data": {
      "text/plain": [
       "{1: 0, 2: 1, 3: 1, 4: 3}"
      ]
     },
     "execution_count": 7,
     "metadata": {},
     "output_type": "execute_result"
    }
   ],
   "source": [
    "dict(G.in_degree)"
   ]
  },
  {
   "cell_type": "code",
   "execution_count": 8,
   "metadata": {},
   "outputs": [],
   "source": [
    "TR = nx.DiGraph()"
   ]
  },
  {
   "cell_type": "code",
   "execution_count": 9,
   "metadata": {},
   "outputs": [],
   "source": [
    "TR.add_nodes_from(G.nodes())"
   ]
  },
  {
   "cell_type": "code",
   "execution_count": 10,
   "metadata": {},
   "outputs": [
    {
     "data": {
      "text/html": [
       "\n",
       "        <iframe\n",
       "            width=\"1000\"\n",
       "            height=\"550\"\n",
       "            src=\"ex.html\"\n",
       "            frameborder=\"0\"\n",
       "            allowfullscreen\n",
       "        ></iframe>\n",
       "        "
      ],
      "text/plain": [
       "<IPython.lib.display.IFrame at 0x7f50911ac6a0>"
      ]
     },
     "execution_count": 10,
     "metadata": {},
     "output_type": "execute_result"
    }
   ],
   "source": [
    "plot_graph(TR, heading=\"TR\", layout=True).show(\"ex.html\")"
   ]
  },
  {
   "cell_type": "code",
   "execution_count": 11,
   "metadata": {},
   "outputs": [
    {
     "name": "stdout",
     "output_type": "stream",
     "text": [
      "{2, 3, 4}\n",
      "{4}\n",
      "{4}\n",
      "set()\n"
     ]
    }
   ],
   "source": [
    "for u in G:\n",
    "    print(set(G[u]))"
   ]
  },
  {
   "cell_type": "code",
   "execution_count": 12,
   "metadata": {},
   "outputs": [],
   "source": [
    "import json\n",
    "\n",
    "\n",
    "def print_vars(d):\n",
    "    for i in d:\n",
    "        print(\"%-20s %s\" % (str(i), str(d[i])))\n",
    "    print()\n",
    "\n",
    "\n",
    "def transitive_reduction(G):\n",
    "    \"\"\" Returns transitive reduction of a directed graph\n",
    "\n",
    "    The transitive reduction of G = (V,E) is a graph G- = (V,E-) such that\n",
    "    for all v,w in V there is an edge (v,w) in E- if and only if (v,w) is\n",
    "    in E and there is no path from v to w in G with length greater than 1.\n",
    "\n",
    "    Parameters\n",
    "    ----------\n",
    "    G : NetworkX DiGraph\n",
    "        A directed acyclic graph (DAG)\n",
    "\n",
    "    Returns\n",
    "    -------\n",
    "    NetworkX DiGraph\n",
    "        The transitive reduction of `G`\n",
    "\n",
    "    Raises\n",
    "    ------\n",
    "    NetworkXError\n",
    "        If `G` is not a directed acyclic graph (DAG) transitive reduction is\n",
    "        not uniquely defined and a :exc:`NetworkXError` exception is raised.\n",
    "\n",
    "    References\n",
    "    ----------\n",
    "    https://en.wikipedia.org/wiki/Transitive_reduction\n",
    "\n",
    "    \"\"\"\n",
    "    TR = nx.DiGraph()\n",
    "    TR.add_nodes_from(G.nodes())\n",
    "    descendants = {}\n",
    "    check_count = dict(G.in_degree)\n",
    "    print_vars({'check_count': check_count})\n",
    "    for u in G:\n",
    "        u_nbrs = set(G[u])\n",
    "        print_vars({'u': str(u), 'u_nbrs': u_nbrs})\n",
    "        for v in G[u]:\n",
    "            if v in u_nbrs:\n",
    "                if v not in descendants:\n",
    "                    descendants[v] = {y for x,y in nx.dfs_edges(G, v)}\n",
    "                    print_vars({'v': str(v), 'descendants': descendants})\n",
    "                u_nbrs -= descendants[v]\n",
    "            check_count[v] -= 1\n",
    "            print_vars({'v': v, 'u_nbrs': u_nbrs, 'check_count': check_count})\n",
    "            if check_count[v] == 0:\n",
    "                del descendants[v]\n",
    "        TR.add_edges_from((u, v) for v in u_nbrs)\n",
    "        print_vars({'TR Edges': list(TR.edges())})\n",
    "    return TR"
   ]
  },
  {
   "cell_type": "code",
   "execution_count": 13,
   "metadata": {},
   "outputs": [
    {
     "name": "stdout",
     "output_type": "stream",
     "text": [
      "check_count          {1: 0, 2: 1, 3: 1, 4: 3}\n",
      "\n",
      "u                    1\n",
      "u_nbrs               {2, 3, 4}\n",
      "\n",
      "v                    2\n",
      "descendants          {2: {4}}\n",
      "\n",
      "v                    2\n",
      "u_nbrs               {2, 3}\n",
      "check_count          {1: 0, 2: 0, 3: 1, 4: 3}\n",
      "\n",
      "v                    3\n",
      "descendants          {3: {4}}\n",
      "\n",
      "v                    3\n",
      "u_nbrs               {2, 3}\n",
      "check_count          {1: 0, 2: 0, 3: 0, 4: 3}\n",
      "\n",
      "v                    4\n",
      "u_nbrs               {2, 3}\n",
      "check_count          {1: 0, 2: 0, 3: 0, 4: 2}\n",
      "\n",
      "TR Edges             [(1, 2), (1, 3)]\n",
      "\n",
      "u                    2\n",
      "u_nbrs               {4}\n",
      "\n",
      "v                    4\n",
      "descendants          {4: set()}\n",
      "\n",
      "v                    4\n",
      "u_nbrs               {4}\n",
      "check_count          {1: 0, 2: 0, 3: 0, 4: 1}\n",
      "\n",
      "TR Edges             [(1, 2), (1, 3), (2, 4)]\n",
      "\n",
      "u                    3\n",
      "u_nbrs               {4}\n",
      "\n",
      "v                    4\n",
      "u_nbrs               {4}\n",
      "check_count          {1: 0, 2: 0, 3: 0, 4: 0}\n",
      "\n",
      "TR Edges             [(1, 2), (1, 3), (2, 4), (3, 4)]\n",
      "\n",
      "u                    4\n",
      "u_nbrs               set()\n",
      "\n",
      "TR Edges             [(1, 2), (1, 3), (2, 4), (3, 4)]\n",
      "\n"
     ]
    }
   ],
   "source": [
    "G = nx.DiGraph()\n",
    "G.add_edges_from([(1,2), (1,3), (2,4), (3,4), (1,4)])\n",
    "TR = transitive_reduction(G)"
   ]
  },
  {
   "cell_type": "code",
   "execution_count": 14,
   "metadata": {},
   "outputs": [
    {
     "data": {
      "text/html": [
       "\n",
       "        <iframe\n",
       "            width=\"1000\"\n",
       "            height=\"550\"\n",
       "            src=\"tr.html\"\n",
       "            frameborder=\"0\"\n",
       "            allowfullscreen\n",
       "        ></iframe>\n",
       "        "
      ],
      "text/plain": [
       "<IPython.lib.display.IFrame at 0x7efd895e2e80>"
      ]
     },
     "execution_count": 14,
     "metadata": {},
     "output_type": "execute_result"
    }
   ],
   "source": [
    "plot_graph(TR, layout=True, heading=\"TR\").show(\"tr.html\")"
   ]
  },
  {
   "cell_type": "markdown",
   "metadata": {},
   "source": [
    "The algorithm in plain english\n",
    "\n",
    "for every node u  \n",
    "visit all children of u, let the children be v  \n",
    "maintain a set u_nbrs, which has all children of v  \n",
    "Use nx.dfs_edges to get all descendents of v  \n",
    "Delete all descendents of v from u_nbrs  \n",
    "As there is a longer path from u to descendants of v through v  \n",
    "After performing the above operation for all children of u  \n",
    "Add the edges from u to every node in u_nbrs  "
   ]
  },
  {
   "cell_type": "code",
   "execution_count": null,
   "metadata": {},
   "outputs": [],
   "source": []
  }
 ],
 "metadata": {
  "kernelspec": {
   "display_name": "Python 3",
   "language": "python",
   "name": "python3"
  },
  "language_info": {
   "codemirror_mode": {
    "name": "ipython",
    "version": 3
   },
   "file_extension": ".py",
   "mimetype": "text/x-python",
   "name": "python",
   "nbconvert_exporter": "python",
   "pygments_lexer": "ipython3",
   "version": "3.9.0"
  }
 },
 "nbformat": 4,
 "nbformat_minor": 4
}
